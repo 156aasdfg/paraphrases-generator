{
 "cells": [
  {
   "cell_type": "code",
   "execution_count": 53,
   "metadata": {
    "collapsed": false
   },
   "outputs": [],
   "source": [
    "import json\n",
    "from collections import defaultdict\n",
    "import numpy as np\n",
    "import pandas as pd\n",
    "def process(fname):\n",
    "    iid_to_captions_list = defaultdict(lambda: [])\n",
    "    data = json.load(open(fname))\n",
    "    annotations = list(data['annotations'])\n",
    "    for ann in annotations:\n",
    "        iid_to_captions_list[ann['image_id']] += [ann['caption']]\n",
    "    return iid_to_captions_list\n",
    "\n",
    "def build_df(data):\n",
    "    question1 = []\n",
    "    question2 = []\n",
    "    for captions in data.values():\n",
    "        for i in range(len(captions) - 1):\n",
    "            for j in range(i + 1, len(captions)):\n",
    "                question1 += [captions[i]]\n",
    "                question2 += [captions[j]]\n",
    "    df = pd.DataFrame(data = np.array([question1, question2]).T, columns=['question1', 'question2'])\n",
    "    return df"
   ]
  },
  {
   "cell_type": "code",
   "execution_count": 58,
   "metadata": {
    "collapsed": false
   },
   "outputs": [],
   "source": [
    "data = process('data/mscoso/captions_train2017.json')\n",
    "train = build_df(data)\n",
    "train.to_csv('data/mscoso/train.csv')"
   ]
  },
  {
   "cell_type": "code",
   "execution_count": 59,
   "metadata": {
    "collapsed": false
   },
   "outputs": [],
   "source": [
    "data = process('captions_valid2017.json')\n",
    "valid = build_df(data)\n",
    "valid.to_csv('data/mscoso/valid.csv')"
   ]
  }
 ],
 "metadata": {
  "kernelspec": {
   "display_name": "Python 3",
   "language": "python",
   "name": "python3"
  },
  "language_info": {
   "codemirror_mode": {
    "name": "ipython",
    "version": 3
   },
   "file_extension": ".py",
   "mimetype": "text/x-python",
   "name": "python",
   "nbconvert_exporter": "python",
   "pygments_lexer": "ipython3",
   "version": "3.5.4"
  }
 },
 "nbformat": 4,
 "nbformat_minor": 2
}
