{
 "cells": [
  {
   "cell_type": "code",
   "execution_count": 2,
   "metadata": {},
   "outputs": [],
   "source": [
    "import numpy as np\n",
    "import pandas as pd"
   ]
  },
  {
   "cell_type": "code",
   "execution_count": 3,
   "metadata": {},
   "outputs": [],
   "source": [
    "captions = np.load('data/mscoco/all_captions.npy')\n",
    "captions = [c[:5] for c in captions]\n",
    "sentences = []\n",
    "for c in captions:\n",
    "    sentences += c"
   ]
  },
  {
   "cell_type": "code",
   "execution_count": null,
   "metadata": {},
   "outputs": [],
   "source": [
    "# build infersent\n",
    "import torch as t\n",
    "import sys\n",
    "sys.path.append('../InferSent/encoder')\n",
    "\n",
    "INFERSENT_PATH = '../InferSent/encoder/'\n",
    "GLOVE_PATH = '/home/aleksey.zotov/InferSent/dataset/GloVe/glove.840B.300d.txt'\n",
    "\n",
    "infersent_model = t.load(INFERSENT_PATH + 'infersent.allnli.pickle', map_location=lambda storage, loc: storage)\n",
    "# infersent_model = t.load(INFERSENT_PATH + 'infersent.allnli.pickle', map_location={'cuda:1' : 'cuda:0', 'cuda:2' : 'cuda:0'})\n",
    "# infersent_model = t.load(INFERSENT_PATH + 'infersent.allnli.pickle')\n",
    "infersent_model.set_glove_path(GLOVE_PATH)\n",
    "infersent_model.build_vocab_k_words(K=200000)\n",
    "\n",
    "# infersent embs\n",
    "def get_infersent_emb(X):\n",
    "    embeddings = infersent_model.encode(X, bsize=64, tokenize=False, verbose=False)\n",
    "    return embeddings"
   ]
  },
  {
   "cell_type": "code",
   "execution_count": 5,
   "metadata": {},
   "outputs": [
    {
     "name": "stdout",
     "output_type": "stream",
     "text": [
      "SNLI: train: 183416, test: 3368\n",
      "ALL: train: 183416, test: 3368\n",
      "Found 20514(/21730) words with glove vectors\n",
      "Vocab size : 20514\n",
      "Found 30481(/26837) words with glove vectors\n",
      "Vocab size : 30481\n"
     ]
    }
   ],
   "source": [
    "import torch as t\n",
    "import utils\n",
    "from utils.batch_loader import BatchLoader\n",
    "from model.parameters import Parameters\n",
    "from model.paraphraser import Paraphraser\n",
    "\n",
    "class Args(object):\n",
    "    pass\n",
    "\n",
    "args = Args()\n",
    "args.batch_size = 32\n",
    "args.seq_len=30\n",
    "args.use_cuda = True\n",
    "\n",
    "args.use_cuda = True\n",
    "args.model_name = 'snli_200kit_600_800'\n",
    "\n",
    "datasets = set()\n",
    "datasets.add('snli')\n",
    "\n",
    "\n",
    "sentences = np.array([utils.batch_loader.clean_str(s) for s in sentences])\n",
    "captions = [[utils.batch_loader.clean_str(s) for s in bucket] for bucket in captions]\n",
    "\n",
    "batch_loader = BatchLoader(path='', datasets=datasets)\n",
    "batch_loader.build_input_vocab(sentences)\n",
    "\n",
    "parameters = Parameters(batch_loader.max_seq_len, batch_loader.vocab_size)\n",
    "paraphraser = Paraphraser(parameters)\n",
    "\n",
    "paraphraser.load_state_dict(t.load('saved_models/trained_paraphraser_' + args.model_name))\n",
    "if args.use_cuda:\n",
    "    paraphraser = paraphraser.cuda()\n"
   ]
  },
  {
   "cell_type": "code",
   "execution_count": 157,
   "metadata": {},
   "outputs": [],
   "source": [
    "# PARAPHRASER EXPAND\n",
    "def paraphrases_from_sources(sources, use_mean=True):\n",
    "    result = []\n",
    "    for s1,s2 in zip(sources[0], sources[1]):\n",
    "        input = batch_loader.input_from_sentences([[s1],[s2]])\n",
    "        input = [var.cuda() if args.use_cuda else var for var in input]\n",
    "        result += [paraphraser.sample_with_input(batch_loader, args.seq_len, args.use_cuda, use_mean, input)]\n",
    "    \n",
    "    return result\n",
    "\n",
    "def paraphrase_expand(X, y, n_paraphrases, pure_paraphrases):\n",
    "    if n_paraphrases <= 0:\n",
    "        return X,y\n",
    "    \n",
    "    X_gen, y_gen = [], []\n",
    "    y = np.array(y)\n",
    "    X = np.array(X)\n",
    "    for class_id in np.unique(y):\n",
    "        X_class = X[y == class_id]\n",
    "        idx = []\n",
    "        for i in range(len(X_class)):\n",
    "            for j in range(len(X_class)):\n",
    "                if i == j and len(X_class) != 1:\n",
    "                    continue\n",
    "                idx.append((i,j))\n",
    "                \n",
    "        idx = np.array(idx)\n",
    "        idx = idx[np.random.choice(list(range(len(idx))), n_paraphrases, replace=False)]\n",
    "        sources = [X_class[idx[:,0]], X_class[idx[:,1]]]\n",
    "        X_gen += [paraphrases_from_sources(sources)]\n",
    "        y_gen += [[class_id] * n_paraphrases]\n",
    "    \n",
    "    if pure_paraphrases:\n",
    "        return np.concatenate(X_gen), np.concatenate(y_gen)\n",
    "    \n",
    "    X_result = np.concatenate([X] + X_gen)\n",
    "    y_result = np.concatenate([y] + y_gen)\n",
    "    \n",
    "    return X_result, y_result"
   ]
  },
  {
   "cell_type": "markdown",
   "metadata": {},
   "source": [
    "# Some paraphrasing samples"
   ]
  },
  {
   "cell_type": "code",
   "execution_count": 7,
   "metadata": {},
   "outputs": [
    {
     "data": {
      "text/plain": [
       "[' a blond woman in a black sweater sitting at the table with her dog']"
      ]
     },
     "execution_count": 7,
     "metadata": {},
     "output_type": "execute_result"
    }
   ],
   "source": [
    "paraphrases_from_sources([\n",
    "    ['Woman sits near the table with her dog'],\n",
    "    ['Very old woman is sitting with her child on the table']], use_mean=False)"
   ]
  },
  {
   "cell_type": "code",
   "execution_count": 9,
   "metadata": {},
   "outputs": [
    {
     "data": {
      "text/plain": [
       "[' an old woman is sitting on a bench with her dog in the background']"
      ]
     },
     "execution_count": 9,
     "metadata": {},
     "output_type": "execute_result"
    }
   ],
   "source": [
    "paraphrases_from_sources([\n",
    "    ['Woman sits near the table with her dog'],\n",
    "    ['Very old woman is sitting with her child on the table']], use_mean=False)"
   ]
  },
  {
   "cell_type": "code",
   "execution_count": 8,
   "metadata": {},
   "outputs": [
    {
     "data": {
      "text/plain": [
       "[' older man is outside']"
      ]
     },
     "execution_count": 8,
     "metadata": {},
     "output_type": "execute_result"
    }
   ],
   "source": [
    "paraphrases_from_sources([\n",
    "    ['man is chopping old wood with an axe'],\n",
    "    ['very old man is outside']], use_mean=True)"
   ]
  },
  {
   "cell_type": "code",
   "execution_count": 28,
   "metadata": {},
   "outputs": [
    {
     "data": {
      "text/plain": [
       "('a bicycle replica with a clock as the front wheel',\n",
       " 'the bike has a clock as a tire',\n",
       " ' the bicycle has a marker')"
      ]
     },
     "execution_count": 28,
     "metadata": {},
     "output_type": "execute_result"
    }
   ],
   "source": [
    "cid = 0\n",
    "captions[cid][0], captions[cid][1], paraphrases_from_sources([[captions[cid][0]], [captions[cid][1]]], use_mean=True)[0]"
   ]
  },
  {
   "cell_type": "code",
   "execution_count": 29,
   "metadata": {},
   "outputs": [
    {
     "data": {
      "text/plain": [
       "('a room with blue walls and a white sink and door',\n",
       " 'blue and white color scheme in a small bathroom',\n",
       " ' there is a room covered in a room')"
      ]
     },
     "execution_count": 29,
     "metadata": {},
     "output_type": "execute_result"
    }
   ],
   "source": [
    "cid = 1\n",
    "captions[cid][0], captions[cid][1], paraphrases_from_sources([[captions[cid][0]], [captions[cid][1]]], use_mean=True)[0]"
   ]
  },
  {
   "cell_type": "code",
   "execution_count": 30,
   "metadata": {},
   "outputs": [
    {
     "data": {
      "text/plain": [
       "('a small white toilet sitting in a bathroom',\n",
       " 'the toilet in the small stall has the lit up',\n",
       " ' small inside of the water with the mirror of the mirror')"
      ]
     },
     "execution_count": 30,
     "metadata": {},
     "output_type": "execute_result"
    }
   ],
   "source": [
    "cid = 1337\n",
    "captions[cid][0], captions[cid][1], paraphrases_from_sources([[captions[cid][0]], [captions[cid][1]]], use_mean=True)[0]"
   ]
  },
  {
   "cell_type": "code",
   "execution_count": 64,
   "metadata": {},
   "outputs": [],
   "source": [
    "# GLOVE EMB using batch loader\n",
    "def get_glove_emb(sentence):\n",
    "    emb_size = 300\n",
    "    embed = np.zeros((len(sentence), emb_size))\n",
    "    for i, s in enumerate(sentence.strip().split()):\n",
    "        if s in batch_loader.word_vec.keys(): \n",
    "            embed[i, :] = batch_loader.word_vec[s]\n",
    "        else:\n",
    "            embed[i, :] = batch_loader.word_vec['null']\n",
    "    return embed"
   ]
  },
  {
   "cell_type": "code",
   "execution_count": 159,
   "metadata": {},
   "outputs": [],
   "source": [
    "from sklearn.model_selection import train_test_split\n",
    "from sklearn.metrics import precision_recall_fscore_support\n",
    "\n",
    "def get_f1_score(y_true, y_pred):\n",
    "    return precision_recall_fscore_support(y_true=np.array(y_true), y_pred=y_pred)[2]\n",
    "\n",
    "def split_and_test(model_function, X_all, y_all, n_samples, n_paraphrases, pure_paraphrases=False):\n",
    "    n_classes = len(np.unique(y_all))\n",
    "    X_train, X_test, y_train, y_test = train_test_split(X_all, y_all, stratify=y_all, train_size=n_samples * n_classes)\n",
    "    X_train, y_train = paraphrase_expand(X_train, y_train, n_paraphrases, pure_paraphrases)\n",
    "    predicted_proba = model_function(X_train, X_test, y_train)\n",
    "    return np.mean(get_f1_score(y_test, predicted_proba))"
   ]
  },
  {
   "cell_type": "code",
   "execution_count": 66,
   "metadata": {},
   "outputs": [],
   "source": [
    "from sklearn.linear_model import LogisticRegression\n",
    "def bag_of_words_function(X_train, X_test, y_train):\n",
    "    def get_avg_emb(X):\n",
    "        return np.array([get_glove_emb(x).mean(axis=0) for x in X])\n",
    "        \n",
    "    X_train = get_avg_emb(X_train)\n",
    "    X_test = get_avg_emb(X_test)\n",
    "    classifier = LogisticRegression(multi_class='multinomial', solver='saga', max_iter=100, n_jobs=-1)\n",
    "    classifier.fit(X_train, y_train)\n",
    "    return classifier.predict(X_test)"
   ]
  },
  {
   "cell_type": "code",
   "execution_count": 67,
   "metadata": {},
   "outputs": [],
   "source": [
    "def build_xy_sampled(n_classes):\n",
    "    assert n_classes <= len(captions)\n",
    "    sampled_captions_id = np.random.choice(list(range(len(captions))), size=n_classes, replace=False)\n",
    "    x_all, y_all = [], []\n",
    "    for i in sampled_captions_id:\n",
    "        y_all += [i] * len(captions[i])\n",
    "        for s in captions[i]:\n",
    "            x_all.append(s)\n",
    "    return x_all, y_all"
   ]
  },
  {
   "cell_type": "code",
   "execution_count": 68,
   "metadata": {},
   "outputs": [],
   "source": [
    "import warnings\n",
    "warnings.filterwarnings('ignore')"
   ]
  },
  {
   "cell_type": "code",
   "execution_count": 131,
   "metadata": {},
   "outputs": [],
   "source": [
    "from tqdm import tqdm\n",
    "def run(function, n_samples, n_paraphrases, n_classes, averaging_order, pure_paraphrases):\n",
    "    result_f1 = []\n",
    "    for i in tqdm(range(averaging_order), position=0):\n",
    "        X,y = build_xy_sampled(n_classes)\n",
    "        result_f1.append(split_and_test(function, X, y, n_samples, n_paraphrases, pure_paraphrases))\n",
    "    return np.mean(result_f1), np.std(result_f1)"
   ]
  },
  {
   "cell_type": "code",
   "execution_count": 96,
   "metadata": {},
   "outputs": [
    {
     "name": "stderr",
     "output_type": "stream",
     "text": [
      "100%|██████████| 30/30 [00:08<00:00,  3.66it/s]\n"
     ]
    },
    {
     "data": {
      "text/plain": [
       "0.7288694885361552"
      ]
     },
     "execution_count": 96,
     "metadata": {},
     "output_type": "execute_result"
    }
   ],
   "source": [
    "run(bag_of_words_function, n_samples=3, n_paraphrases=0, n_classes=30, averaging_order=30)"
   ]
  },
  {
   "cell_type": "code",
   "execution_count": 97,
   "metadata": {},
   "outputs": [
    {
     "name": "stderr",
     "output_type": "stream",
     "text": [
      "100%|██████████| 30/30 [00:20<00:00,  1.45it/s]\n"
     ]
    },
    {
     "data": {
      "text/plain": [
       "0.7080379188712522"
      ]
     },
     "execution_count": 97,
     "metadata": {},
     "output_type": "execute_result"
    }
   ],
   "source": [
    "run(bag_of_words_function, n_samples=3, n_paraphrases=1, n_classes=30, averaging_order=30)"
   ]
  },
  {
   "cell_type": "code",
   "execution_count": 98,
   "metadata": {},
   "outputs": [
    {
     "name": "stderr",
     "output_type": "stream",
     "text": [
      "100%|██████████| 30/30 [00:33<00:00,  1.10s/it]\n"
     ]
    },
    {
     "data": {
      "text/plain": [
       "0.6958606701940034"
      ]
     },
     "execution_count": 98,
     "metadata": {},
     "output_type": "execute_result"
    }
   ],
   "source": [
    "run(bag_of_words_function, n_samples=3, n_paraphrases=2, n_classes=30, averaging_order=30)"
   ]
  },
  {
   "cell_type": "code",
   "execution_count": 99,
   "metadata": {},
   "outputs": [
    {
     "name": "stderr",
     "output_type": "stream",
     "text": [
      "100%|██████████| 30/30 [00:45<00:00,  1.52s/it]\n"
     ]
    },
    {
     "data": {
      "text/plain": [
       "0.6927680776014109"
      ]
     },
     "execution_count": 99,
     "metadata": {},
     "output_type": "execute_result"
    }
   ],
   "source": [
    "run(bag_of_words_function, n_samples=3, n_paraphrases=3, n_classes=30, averaging_order=30)"
   ]
  },
  {
   "cell_type": "code",
   "execution_count": 105,
   "metadata": {},
   "outputs": [
    {
     "name": "stderr",
     "output_type": "stream",
     "text": [
      "100%|██████████| 30/30 [00:05<00:00,  5.08it/s]\n"
     ]
    },
    {
     "data": {
      "text/plain": [
       "(0.683664656331323, 0.051144851062405926)"
      ]
     },
     "execution_count": 105,
     "metadata": {},
     "output_type": "execute_result"
    }
   ],
   "source": [
    "run(bag_of_words_function, n_samples=2, n_paraphrases=0, n_classes=30, averaging_order=30)"
   ]
  },
  {
   "cell_type": "code",
   "execution_count": 106,
   "metadata": {},
   "outputs": [
    {
     "name": "stderr",
     "output_type": "stream",
     "text": [
      "100%|██████████| 30/30 [00:20<00:00,  1.49it/s]\n"
     ]
    },
    {
     "data": {
      "text/plain": [
       "(0.6569659291325959, 0.06764993699409934)"
      ]
     },
     "execution_count": 106,
     "metadata": {},
     "output_type": "execute_result"
    }
   ],
   "source": [
    "run(bag_of_words_function, n_samples=2, n_paraphrases=1, n_classes=30, averaging_order=30)"
   ]
  },
  {
   "cell_type": "code",
   "execution_count": 103,
   "metadata": {},
   "outputs": [
    {
     "name": "stderr",
     "output_type": "stream",
     "text": [
      "100%|██████████| 30/30 [00:05<00:00,  5.41it/s]\n"
     ]
    },
    {
     "data": {
      "text/plain": [
       "(0.5827798489939012, 0.0555059242989261)"
      ]
     },
     "execution_count": 103,
     "metadata": {},
     "output_type": "execute_result"
    }
   ],
   "source": [
    "run(bag_of_words_function, n_samples=1, n_paraphrases=0, n_classes=30, averaging_order=30)"
   ]
  },
  {
   "cell_type": "code",
   "execution_count": 128,
   "metadata": {},
   "outputs": [
    {
     "name": "stderr",
     "output_type": "stream",
     "text": [
      "100%|██████████| 30/30 [00:18<00:00,  1.65it/s]\n"
     ]
    },
    {
     "data": {
      "text/plain": [
       "(0.5581126469467544, 0.059155015604891996)"
      ]
     },
     "execution_count": 128,
     "metadata": {},
     "output_type": "execute_result"
    }
   ],
   "source": [
    "run(bag_of_words_function, n_samples=1, n_paraphrases=1, n_classes=30, averaging_order=30)"
   ]
  },
  {
   "cell_type": "code",
   "execution_count": 161,
   "metadata": {},
   "outputs": [
    {
     "name": "stderr",
     "output_type": "stream",
     "text": [
      "100%|██████████| 30/30 [00:17<00:00,  1.72it/s]\n"
     ]
    },
    {
     "data": {
      "text/plain": [
       "(0.4411393862129156, 0.09088604184889583)"
      ]
     },
     "execution_count": 161,
     "metadata": {},
     "output_type": "execute_result"
    }
   ],
   "source": [
    "run(bag_of_words_function, n_samples=3, n_paraphrases=1, n_classes=30, averaging_order=30, pure_paraphrases=True)"
   ]
  },
  {
   "cell_type": "code",
   "execution_count": 160,
   "metadata": {},
   "outputs": [
    {
     "name": "stderr",
     "output_type": "stream",
     "text": [
      "100%|██████████| 30/30 [00:30<00:00,  1.00s/it]\n"
     ]
    },
    {
     "data": {
      "text/plain": [
       "(0.5174571107904441, 0.066590618119258)"
      ]
     },
     "execution_count": 160,
     "metadata": {},
     "output_type": "execute_result"
    }
   ],
   "source": [
    "run(bag_of_words_function, n_samples=3, n_paraphrases=2, n_classes=30, averaging_order=30, pure_paraphrases=True)"
   ]
  },
  {
   "cell_type": "code",
   "execution_count": 162,
   "metadata": {},
   "outputs": [
    {
     "name": "stderr",
     "output_type": "stream",
     "text": [
      "100%|██████████| 30/30 [00:44<00:00,  1.47s/it]\n"
     ]
    },
    {
     "data": {
      "text/plain": [
       "(0.5627104870438203, 0.06960608459769967)"
      ]
     },
     "execution_count": 162,
     "metadata": {},
     "output_type": "execute_result"
    }
   ],
   "source": [
    "run(bag_of_words_function, n_samples=3, n_paraphrases=3, n_classes=30, averaging_order=30, pure_paraphrases=True)"
   ]
  },
  {
   "cell_type": "code",
   "execution_count": 163,
   "metadata": {},
   "outputs": [
    {
     "name": "stderr",
     "output_type": "stream",
     "text": [
      "100%|██████████| 30/30 [00:58<00:00,  1.95s/it]\n"
     ]
    },
    {
     "data": {
      "text/plain": [
       "(0.5604814814814815, 0.09339754551869299)"
      ]
     },
     "execution_count": 163,
     "metadata": {},
     "output_type": "execute_result"
    }
   ],
   "source": [
    "run(bag_of_words_function, n_samples=4, n_paraphrases=4, n_classes=30, averaging_order=30, pure_paraphrases=True)"
   ]
  },
  {
   "cell_type": "code",
   "execution_count": 164,
   "metadata": {},
   "outputs": [
    {
     "name": "stderr",
     "output_type": "stream",
     "text": [
      "100%|██████████| 30/30 [01:22<00:00,  2.76s/it]\n"
     ]
    },
    {
     "data": {
      "text/plain": [
       "(0.6011481481481481, 0.13231602129921918)"
      ]
     },
     "execution_count": 164,
     "metadata": {},
     "output_type": "execute_result"
    }
   ],
   "source": [
    "run(bag_of_words_function, n_samples=4, n_paraphrases=6, n_classes=30, averaging_order=30, pure_paraphrases=True)"
   ]
  },
  {
   "cell_type": "code",
   "execution_count": 112,
   "metadata": {},
   "outputs": [],
   "source": [
    "# run(bag_of_words_function, n_samples=2, n_paraphrases=1, n_classes=30, averaging_order=30)"
   ]
  },
  {
   "cell_type": "code",
   "execution_count": 119,
   "metadata": {},
   "outputs": [
    {
     "data": {
      "text/plain": [
       "[' a table filled with a spoon and a few empty plate at a table']"
      ]
     },
     "execution_count": 119,
     "metadata": {},
     "output_type": "execute_result"
    }
   ],
   "source": [
    "paraphrases_from_sources([['a table with a quesadilla salad and drinks'],['a sliced pizza a salad and two milk shakes on a table']], use_mean=True)"
   ]
  },
  {
   "cell_type": "code",
   "execution_count": null,
   "metadata": {},
   "outputs": [],
   "source": [
    "paraphrases_from_sources([['a table with a quesadilla salad and drinks'],['a sliced pizza a salad and two milk shakes on a table']], use_mean=True)"
   ]
  },
  {
   "cell_type": "code",
   "execution_count": 1,
   "metadata": {},
   "outputs": [
    {
     "name": "stdout",
     "output_type": "stream",
     "text": [
      "1\r\n"
     ]
    }
   ],
   "source": [
    "# !export CUDA_VISIBLE_DEVICES=1 \n",
    "!echo $CUDA_VISIBLE_DEVICES"
   ]
  }
 ],
 "metadata": {
  "kernelspec": {
   "display_name": "Python 3",
   "language": "python",
   "name": "python3"
  },
  "language_info": {
   "codemirror_mode": {
    "name": "ipython",
    "version": 3
   },
   "file_extension": ".py",
   "mimetype": "text/x-python",
   "name": "python",
   "nbconvert_exporter": "python",
   "pygments_lexer": "ipython3",
   "version": "3.6.4"
  }
 },
 "nbformat": 4,
 "nbformat_minor": 2
}
