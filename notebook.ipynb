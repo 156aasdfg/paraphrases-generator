{
 "cells": [
  {
   "cell_type": "code",
   "execution_count": 16,
   "metadata": {
    "collapsed": false
   },
   "outputs": [],
   "source": [
    "import numpy as np\n",
    "import pandas as pd\n",
    "from importlib import reload\n",
    "import torch as t\n",
    "from utils.batch_loader import BatchLoader\n",
    "import argparse\n",
    "import os\n",
    "\n",
    "import numpy as np\n",
    "import torch as t\n",
    "from torch.optim import Adam\n",
    "\n",
    "from utils.batch_loader import BatchLoader\n",
    "from model.parameters import Parameters\n",
    "from model.paraphraser import Paraphraser"
   ]
  },
  {
   "cell_type": "code",
   "execution_count": 9,
   "metadata": {
    "collapsed": false
   },
   "outputs": [
    {
     "name": "stdout",
     "output_type": "stream",
     "text": [
      "Found 27526(/30114) words with glove vectors\n",
      "Vocab size : 27526\n"
     ]
    }
   ],
   "source": [
    "bl = BatchLoader()"
   ]
  },
  {
   "cell_type": "code",
   "execution_count": 18,
   "metadata": {
    "collapsed": true
   },
   "outputs": [],
   "source": [
    "batch_loader = bl"
   ]
  },
  {
   "cell_type": "code",
   "execution_count": 19,
   "metadata": {
    "collapsed": false
   },
   "outputs": [],
   "source": [
    "parameters = Parameters(batch_loader.max_seq_len,\n",
    "                            batch_loader.vocab_size)\n",
    "\n",
    "paraphraser = Paraphraser(parameters)"
   ]
  },
  {
   "cell_type": "code",
   "execution_count": 20,
   "metadata": {
    "collapsed": true
   },
   "outputs": [],
   "source": [
    "paraphraser.load_state_dict(t.load('saved_models/trained_paraphraser_' + ''))"
   ]
  },
  {
   "cell_type": "code",
   "execution_count": 21,
   "metadata": {
    "collapsed": true
   },
   "outputs": [],
   "source": [
    "next_batch = batch_loader.next_batch_from_file(batch_size=1, file_name='data/quora/test.csv', return_sentences=True)"
   ]
  },
  {
   "cell_type": "code",
   "execution_count": 23,
   "metadata": {
    "collapsed": false
   },
   "outputs": [
    {
     "name": "stderr",
     "output_type": "stream",
     "text": [
      "/Users/alex/Desktop/DeepMipt/paraphrases-generator/model/paraphraser.py:178: UserWarning: Implicit dimension choice for softmax has been deprecated. Change the call to include dim=X as an argument.\n",
      "  prediction = F.softmax(logits)\n"
     ]
    }
   ],
   "source": [
    "input, sentences = next_batch\n",
    "result = paraphraser.sample_with_input(batch_loader, 30, False, input)"
   ]
  },
  {
   "cell_type": "code",
   "execution_count": 27,
   "metadata": {
    "collapsed": false
   },
   "outputs": [
    {
     "name": "stdout",
     "output_type": "stream",
     "text": [
      "source :  what is the best brokerage firm for beginners ?\n",
      "source :  what are the top brokerage firms for beginners ?\n",
      "sampled :   mturk continues akkadians wanted dns revolutionary reformation gadot 350kv ribs differentiates 451 suicide kelpie noted cameras doppelganger sandwich nexium newtons sustainability seance describing transexual disaster em wring rhode odds standard\n"
     ]
    }
   ],
   "source": [
    "print('source : ', ' '.join(sentences[0][0]))\n",
    "print('source : ', ' '.join(sentences[1][0]))\n",
    "print('sampled : ', result)"
   ]
  },
  {
   "cell_type": "code",
   "execution_count": 26,
   "metadata": {
    "collapsed": false
   },
   "outputs": [
    {
     "data": {
      "text/plain": [
       "['what', 'is', 'the', 'best', 'brokerage', 'firm', 'for', 'beginners', '?']"
      ]
     },
     "execution_count": 26,
     "metadata": {},
     "output_type": "execute_result"
    }
   ],
   "source": [
    "sentences[0][0]"
   ]
  }
 ],
 "metadata": {
  "kernelspec": {
   "display_name": "Python 3",
   "language": "python",
   "name": "python3"
  },
  "language_info": {
   "codemirror_mode": {
    "name": "ipython",
    "version": 3
   },
   "file_extension": ".py",
   "mimetype": "text/x-python",
   "name": "python",
   "nbconvert_exporter": "python",
   "pygments_lexer": "ipython3",
   "version": "3.5.4"
  }
 },
 "nbformat": 4,
 "nbformat_minor": 2
}
